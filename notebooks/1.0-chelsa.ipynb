{
 "cells": [
  {
   "cell_type": "code",
   "execution_count": 2,
   "metadata": {},
   "outputs": [
    {
     "ename": "ModuleNotFoundError",
     "evalue": "No module named 'src'",
     "output_type": "error",
     "traceback": [
      "\u001b[0;31m---------------------------------------------------------------------------\u001b[0m",
      "\u001b[0;31mModuleNotFoundError\u001b[0m                       Traceback (most recent call last)",
      "\u001b[1;32m/Users/khant/Documents/UFZ/Git/iasdt-workflows/workflows/notebooks/1.0-chelsa.ipynb Cell 1\u001b[0m in \u001b[0;36m<cell line: 1>\u001b[0;34m()\u001b[0m\n\u001b[0;32m----> <a href='vscode-notebook-cell:/Users/khant/Documents/UFZ/Git/iasdt-workflows/workflows/notebooks/1.0-chelsa.ipynb#W0sZmlsZQ%3D%3D?line=0'>1</a>\u001b[0m \u001b[39mfrom\u001b[39;00m \u001b[39msrc\u001b[39;00m\u001b[39m.\u001b[39;00m\u001b[39mdata\u001b[39;00m\u001b[39m.\u001b[39;00m\u001b[39mchelsa\u001b[39;00m \u001b[39mimport\u001b[39;00m download_data\n\u001b[1;32m      <a href='vscode-notebook-cell:/Users/khant/Documents/UFZ/Git/iasdt-workflows/workflows/notebooks/1.0-chelsa.ipynb#W0sZmlsZQ%3D%3D?line=1'>2</a>\u001b[0m download_data(\u001b[39m\"\u001b[39m\u001b[39m../../../references/chelsa_download_list.txt\u001b[39m\u001b[39m\"\u001b[39m, \u001b[39m'\u001b[39m\u001b[39m../../data/external/chelsa/\u001b[39m\u001b[39m'\u001b[39m)\n",
      "\u001b[0;31mModuleNotFoundError\u001b[0m: No module named 'src'"
     ]
    }
   ],
   "source": [
    "from src.data.chelsa import download_data\n",
    "download_data(\"../../../references/chelsa_download_list.txt\", '../../data/external/chelsa/')"
   ]
  },
  {
   "cell_type": "code",
   "execution_count": null,
   "metadata": {},
   "outputs": [],
   "source": []
  }
 ],
 "metadata": {
  "kernelspec": {
   "display_name": "base",
   "language": "python",
   "name": "python3"
  },
  "language_info": {
   "codemirror_mode": {
    "name": "ipython",
    "version": 3
   },
   "file_extension": ".py",
   "mimetype": "text/x-python",
   "name": "python",
   "nbconvert_exporter": "python",
   "pygments_lexer": "ipython3",
   "version": "3.9.12"
  },
  "orig_nbformat": 4,
  "vscode": {
   "interpreter": {
    "hash": "ac02c2b69717f520892881e5ab0fe92d638cabe6adca4f8b4e407429b666b57f"
   }
  }
 },
 "nbformat": 4,
 "nbformat_minor": 2
}
