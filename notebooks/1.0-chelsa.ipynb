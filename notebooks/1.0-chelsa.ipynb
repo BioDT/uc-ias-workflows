{
 "cells": [
  {
   "cell_type": "code",
   "execution_count": 1,
   "metadata": {},
   "outputs": [],
   "source": [
    "import sys"
   ]
  },
  {
   "cell_type": "code",
   "execution_count": 2,
   "metadata": {},
   "outputs": [
    {
     "name": "stdout",
     "output_type": "stream",
     "text": [
      "['/Users/khant/Documents/UFZ/Git/iasdt-workflows/notebooks', '/Users/khant/opt/anaconda3/lib/python39.zip', '/Users/khant/opt/anaconda3/lib/python3.9', '/Users/khant/opt/anaconda3/lib/python3.9/lib-dynload', '', '/Users/khant/.local/lib/python3.9/site-packages', '/Users/khant/opt/anaconda3/lib/python3.9/site-packages', '/Users/khant/opt/anaconda3/lib/python3.9/site-packages/aeosa']\n"
     ]
    }
   ],
   "source": [
    "print(sys.path)"
   ]
  },
  {
   "cell_type": "code",
   "execution_count": 3,
   "metadata": {},
   "outputs": [],
   "source": [
    "# some_file.py\n",
    "import sys\n",
    "# caution: path[0] is reserved for script path (or '' in REPL)\n",
    "if \"../src/data/\" in sys.path:\n",
    "    print(\"Path not needed\")\n",
    "else:\n",
    "    sys.path.insert(1, \"../src/data/\")\n"
   ]
  },
  {
   "cell_type": "code",
   "execution_count": 7,
   "metadata": {},
   "outputs": [],
   "source": [
    "from chelsa import download_data\n",
    "#down = wget.download(\"https://os.zhdk.cloud.switch.ch/envicloud/chelsa/chelsa_V2/GLOBAL/annual/swb/CHELSA_swb_2013_V.2.1.tif\")\n",
    "download_data(\"../references/chelsa_paths.txt\", \"../data/raw/chelsa/\")"
   ]
  },
  {
   "cell_type": "code",
   "execution_count": 1,
   "metadata": {},
   "outputs": [
    {
     "name": "stderr",
     "output_type": "stream",
     "text": [
      "/var/folders/pd/scby1cjx6tx_33rnmv0q6r8m0000gr/T/ipykernel_57793/876188145.py:3: DeprecationWarning: open_rasterio is Deprecated in favor of rioxarray. For information about transitioning, see: https://corteva.github.io/rioxarray/stable/getting_started/getting_started.html\n",
      "  data_array = xr.open_rasterio(\"../data/raw/chelsa/CHELSA_swb_2013_V.2.1.tif\", engine=\"scipy\")\n"
     ]
    },
    {
     "name": "stdout",
     "output_type": "stream",
     "text": [
      "<xarray.DataArray (band: 1, y: 20880, x: 43200)>\n",
      "[902016000 values with dtype=int16]\n",
      "Coordinates:\n",
      "  * band     (band) int64 1\n",
      "  * y        (y) float64 84.0 83.99 83.98 83.97 ... -89.97 -89.98 -89.99 -90.0\n",
      "  * x        (x) float64 -180.0 -180.0 -180.0 -180.0 ... 180.0 180.0 180.0 180.0\n",
      "Attributes:\n",
      "    transform:      (0.0083333333, 0.0, -180.00013888885002, 0.0, -0.00833333...\n",
      "    crs:            +init=epsg:4326\n",
      "    res:            (0.0083333333, 0.0083333333)\n",
      "    is_tiled:       0\n",
      "    nodatavals:     (-32767.0,)\n",
      "    scales:         (1.0,)\n",
      "    offsets:        (0.0,)\n",
      "    AREA_OR_POINT:  Area\n"
     ]
    }
   ],
   "source": [
    "import xarray as xr\n",
    "\n",
    "data_array = xr.open_rasterio(\"../data/raw/chelsa/CHELSA_swb_2013_V.2.1.tif\", engine=\"scipy\")\n",
    "print(data_array)"
   ]
  },
  {
   "cell_type": "code",
   "execution_count": 51,
   "metadata": {},
   "outputs": [],
   "source": [
    "ds = data_array.to_dataset('band')\n",
    "ds = ds.rename({1: '1'})"
   ]
  },
  {
   "cell_type": "code",
   "execution_count": 55,
   "metadata": {},
   "outputs": [
    {
     "ename": "NameError",
     "evalue": "name 'netCDF4' is not defined",
     "output_type": "error",
     "traceback": [
      "\u001b[0;31m---------------------------------------------------------------------------\u001b[0m",
      "\u001b[0;31mNameError\u001b[0m                                 Traceback (most recent call last)",
      "\u001b[1;32m/Users/khant/Documents/UFZ/Git/iasdt-workflows/notebooks/1.0-chelsa.ipynb Cell 7\u001b[0m in \u001b[0;36m<cell line: 1>\u001b[0;34m()\u001b[0m\n\u001b[0;32m----> <a href='vscode-notebook-cell:/Users/khant/Documents/UFZ/Git/iasdt-workflows/notebooks/1.0-chelsa.ipynb#W6sZmlsZQ%3D%3D?line=0'>1</a>\u001b[0m ds\u001b[39m.\u001b[39;49mto_netcdf(\u001b[39m\"\u001b[39;49m\u001b[39m../data/interim/CHELSA_swb_2013.nc\u001b[39;49m\u001b[39m\"\u001b[39;49m, group\u001b[39m=\u001b[39;49m\u001b[39m\"\u001b[39;49m\u001b[39mCHELSA_swb_2013/\u001b[39;49m\u001b[39m\"\u001b[39;49m, mode\u001b[39m=\u001b[39;49m\u001b[39m\"\u001b[39;49m\u001b[39mw\u001b[39;49m\u001b[39m\"\u001b[39;49m)\n",
      "File \u001b[0;32m~/opt/anaconda3/lib/python3.9/site-packages/xarray/core/dataset.py:1902\u001b[0m, in \u001b[0;36mDataset.to_netcdf\u001b[0;34m(self, path, mode, format, group, engine, encoding, unlimited_dims, compute, invalid_netcdf)\u001b[0m\n\u001b[1;32m   1899\u001b[0m     encoding \u001b[39m=\u001b[39m {}\n\u001b[1;32m   1900\u001b[0m \u001b[39mfrom\u001b[39;00m \u001b[39m.\u001b[39;00m\u001b[39m.\u001b[39;00m\u001b[39mbackends\u001b[39;00m\u001b[39m.\u001b[39;00m\u001b[39mapi\u001b[39;00m \u001b[39mimport\u001b[39;00m to_netcdf\n\u001b[0;32m-> 1902\u001b[0m \u001b[39mreturn\u001b[39;00m to_netcdf(\n\u001b[1;32m   1903\u001b[0m     \u001b[39mself\u001b[39;49m,\n\u001b[1;32m   1904\u001b[0m     path,\n\u001b[1;32m   1905\u001b[0m     mode,\n\u001b[1;32m   1906\u001b[0m     \u001b[39mformat\u001b[39;49m\u001b[39m=\u001b[39;49m\u001b[39mformat\u001b[39;49m,\n\u001b[1;32m   1907\u001b[0m     group\u001b[39m=\u001b[39;49mgroup,\n\u001b[1;32m   1908\u001b[0m     engine\u001b[39m=\u001b[39;49mengine,\n\u001b[1;32m   1909\u001b[0m     encoding\u001b[39m=\u001b[39;49mencoding,\n\u001b[1;32m   1910\u001b[0m     unlimited_dims\u001b[39m=\u001b[39;49munlimited_dims,\n\u001b[1;32m   1911\u001b[0m     compute\u001b[39m=\u001b[39;49mcompute,\n\u001b[1;32m   1912\u001b[0m     invalid_netcdf\u001b[39m=\u001b[39;49minvalid_netcdf,\n\u001b[1;32m   1913\u001b[0m )\n",
      "File \u001b[0;32m~/opt/anaconda3/lib/python3.9/site-packages/xarray/backends/api.py:1055\u001b[0m, in \u001b[0;36mto_netcdf\u001b[0;34m(dataset, path_or_file, mode, format, group, engine, encoding, unlimited_dims, compute, multifile, invalid_netcdf)\u001b[0m\n\u001b[1;32m   1051\u001b[0m     \u001b[39melse\u001b[39;00m:\n\u001b[1;32m   1052\u001b[0m         \u001b[39mraise\u001b[39;00m \u001b[39mValueError\u001b[39;00m(\n\u001b[1;32m   1053\u001b[0m             \u001b[39mf\u001b[39m\u001b[39m\"\u001b[39m\u001b[39munrecognized option \u001b[39m\u001b[39m'\u001b[39m\u001b[39minvalid_netcdf\u001b[39m\u001b[39m'\u001b[39m\u001b[39m for engine \u001b[39m\u001b[39m{\u001b[39;00mengine\u001b[39m}\u001b[39;00m\u001b[39m\"\u001b[39m\n\u001b[1;32m   1054\u001b[0m         )\n\u001b[0;32m-> 1055\u001b[0m store \u001b[39m=\u001b[39m store_open(target, mode, \u001b[39mformat\u001b[39;49m, group, \u001b[39m*\u001b[39;49m\u001b[39m*\u001b[39;49mkwargs)\n\u001b[1;32m   1057\u001b[0m \u001b[39mif\u001b[39;00m unlimited_dims \u001b[39mis\u001b[39;00m \u001b[39mNone\u001b[39;00m:\n\u001b[1;32m   1058\u001b[0m     unlimited_dims \u001b[39m=\u001b[39m dataset\u001b[39m.\u001b[39mencoding\u001b[39m.\u001b[39mget(\u001b[39m\"\u001b[39m\u001b[39munlimited_dims\u001b[39m\u001b[39m\"\u001b[39m, \u001b[39mNone\u001b[39;00m)\n",
      "File \u001b[0;32m~/opt/anaconda3/lib/python3.9/site-packages/xarray/backends/netCDF4_.py:377\u001b[0m, in \u001b[0;36mNetCDF4DataStore.open\u001b[0;34m(cls, filename, mode, format, group, clobber, diskless, persist, lock, lock_maker, autoclose)\u001b[0m\n\u001b[1;32m    371\u001b[0m         lock \u001b[39m=\u001b[39m combine_locks([base_lock, get_write_lock(filename)])\n\u001b[1;32m    373\u001b[0m kwargs \u001b[39m=\u001b[39m \u001b[39mdict\u001b[39m(\n\u001b[1;32m    374\u001b[0m     clobber\u001b[39m=\u001b[39mclobber, diskless\u001b[39m=\u001b[39mdiskless, persist\u001b[39m=\u001b[39mpersist, \u001b[39mformat\u001b[39m\u001b[39m=\u001b[39m\u001b[39mformat\u001b[39m\n\u001b[1;32m    375\u001b[0m )\n\u001b[1;32m    376\u001b[0m manager \u001b[39m=\u001b[39m CachingFileManager(\n\u001b[0;32m--> 377\u001b[0m     netCDF4\u001b[39m.\u001b[39mDataset, filename, mode\u001b[39m=\u001b[39mmode, kwargs\u001b[39m=\u001b[39mkwargs\n\u001b[1;32m    378\u001b[0m )\n\u001b[1;32m    379\u001b[0m \u001b[39mreturn\u001b[39;00m \u001b[39mcls\u001b[39m(manager, group\u001b[39m=\u001b[39mgroup, mode\u001b[39m=\u001b[39mmode, lock\u001b[39m=\u001b[39mlock, autoclose\u001b[39m=\u001b[39mautoclose)\n",
      "\u001b[0;31mNameError\u001b[0m: name 'netCDF4' is not defined"
     ]
    }
   ],
   "source": [
    "ds.to_netcdf(\"../data/interim/CHELSA_swb_2013.nc\", group=\"CHELSA_swb_2013/\", mode=\"w\")"
   ]
  },
  {
   "cell_type": "code",
   "execution_count": null,
   "metadata": {},
   "outputs": [],
   "source": []
  }
 ],
 "metadata": {
  "kernelspec": {
   "display_name": "base",
   "language": "python",
   "name": "python3"
  },
  "language_info": {
   "codemirror_mode": {
    "name": "ipython",
    "version": 3
   },
   "file_extension": ".py",
   "mimetype": "text/x-python",
   "name": "python",
   "nbconvert_exporter": "python",
   "pygments_lexer": "ipython3",
   "version": "3.9.12"
  },
  "orig_nbformat": 4,
  "vscode": {
   "interpreter": {
    "hash": "ac02c2b69717f520892881e5ab0fe92d638cabe6adca4f8b4e407429b666b57f"
   }
  }
 },
 "nbformat": 4,
 "nbformat_minor": 2
}
